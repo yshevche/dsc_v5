{
 "cells": [
  {
   "cell_type": "markdown",
   "metadata": {},
   "source": [
    "This exercise will require you to pull some data from https://data.nasdaq.com/ (formerly Quandl API)."
   ]
  },
  {
   "cell_type": "markdown",
   "metadata": {},
   "source": [
    "As a first step, you will need to register a free account on the https://data.nasdaq.com/ website."
   ]
  },
  {
   "cell_type": "markdown",
   "metadata": {},
   "source": [
    "After you register, you will be provided with a unique API key, that you should store:\r\n",
    "\r\n",
    "*Note*: Use a `.env` file and put your key in there and `python-dotenv` to access it in this notebook. \r\n",
    "\r\n",
    "The code below uses a key that was used when generating this project but has since been deleted. Never submit your keys to source control. There is a `.env-example` file in this repository to illusrtate what you need. Copy that to a file called `.env` and use your own api key in that `.env` file. Make sure you also have a `.gitignore` file with a line for `.env` added to it. \r\n",
    "\r\n",
    "The standard Python gitignore is [here](https://github.com/github/gitignore/blob/master/Python.gitignore) you can just copy that. "
   ]
  },
  {
   "cell_type": "code",
   "execution_count": 275,
   "metadata": {},
   "outputs": [],
   "source": [
    "# get api key from your .env file \n",
    "\n",
    "import os \n",
    "from dotenv import load_dotenv \n",
    "\n",
    "#BaseDir = os.path.abspath(os.path.dirname('/Users/jennyshevchenko/Documents/dsc_v5/Unit 7 - Data Wrangling/7.2 - Data Collection/7.2.5 - API Mini Project/NASDAQ_API_KEY'))\n",
    "\n",
    "load_dotenv()\n",
    "API_KEY = os.getenv('NASDAQ_API_KEY')\n",
    "\n"
   ]
  },
  {
   "cell_type": "markdown",
   "metadata": {},
   "source": [
    "Nasdaq Data has a large number of data sources, but, unfortunately, most of them require a Premium subscription. Still, there are also a good number of free datasets."
   ]
  },
  {
   "cell_type": "code",
   "execution_count": 74,
   "metadata": {},
   "outputs": [
    {
     "name": "stdout",
     "output_type": "stream",
     "text": [
      "api_data_wrangling_mini_project.ipynb\n"
     ]
    }
   ],
   "source": [
    "!ls"
   ]
  },
  {
   "cell_type": "markdown",
   "metadata": {},
   "source": [
    "For this mini project, we will focus on equities data from the Frankfurt Stock Exhange (FSE), which is available for free. We'll try and analyze the stock prices of a company called Carl Zeiss Meditec, which manufactures tools for eye examinations, as well as medical lasers for laser eye surgery: https://www.zeiss.com/meditec/int/home.html. The company is listed under the stock ticker AFX_X."
   ]
  },
  {
   "cell_type": "markdown",
   "metadata": {},
   "source": [
    "You can find the detailed Nasdaq Data API instructions here: https://docs.data.nasdaq.com/docs/in-depth-usage"
   ]
  },
  {
   "cell_type": "markdown",
   "metadata": {},
   "source": [
    "While there is a dedicated Python package for connecting to the Nasdaq API, we would prefer that you use the *requests* package, which can be easily downloaded using *pip* or *conda*. You can find the documentation for the package here: http://docs.python-requests.org/en/master/ "
   ]
  },
  {
   "cell_type": "markdown",
   "metadata": {},
   "source": [
    "Finally, apart from the *requests* package, you are encouraged to not use any third party Python packages, such as *pandas*, and instead focus on what's available in the Python Standard Library (the *collections* module might come in handy: https://pymotw.com/3/collections/).\n",
    "Also, since you won't have access to DataFrames, you are encouraged to us Python's native data structures - preferably dictionaries, though some questions can also be answered using lists.\n",
    "You can read more on these data structures here: https://docs.python.org/3/tutorial/datastructures.html"
   ]
  },
  {
   "cell_type": "markdown",
   "metadata": {},
   "source": [
    "Keep in mind that the JSON responses you will be getting from the API map almost one-to-one to Python's dictionaries. Unfortunately, they can be very nested, so make sure you read up on indexing dictionaries in the documentation provided above."
   ]
  },
  {
   "cell_type": "code",
   "execution_count": 75,
   "metadata": {},
   "outputs": [],
   "source": [
    "# First, import the relevant modules\n",
    "import json\n",
    "import requests\n",
    "from datetime import datetime,timedelta\n",
    "import pprint"
   ]
  },
  {
   "cell_type": "markdown",
   "metadata": {},
   "source": [
    "Note: API's can change a bit with each version, for this exercise it is reccomended to use the nasdaq api at `https://data.nasdaq.com/api/v3/`. This is the same api as what used to be quandl so `https://www.quandl.com/api/v3/` should work too.\r\n",
    "\r\n",
    "Hint: We are looking for the `AFX_X` data on the `datasets/FSE/` dataset."
   ]
  },
  {
   "cell_type": "code",
   "execution_count": 76,
   "metadata": {},
   "outputs": [
    {
     "name": "stdout",
     "output_type": "stream",
     "text": [
      "<class 'dict'>\n"
     ]
    }
   ],
   "source": [
    "# Now, call the Nasdaq API and pull out a small sample of the data (only one day) to get a glimpse\n",
    "# into the JSON structure that will be returned\n",
    "#metadata = \"https://data.nasdaq.com/api/v3/datasets/FSE/AFX_X/metadata.json?api_key=\" + API_KEY\n",
    "#url = \"https://data.nasdaq.com/api/v3/datasets/FSE/AFX_X.json?start_date=2017-01-01&end_date=2017-12-31&limit=1&collapse=day&api_key=\"+ API_KEY\n",
    "\n",
    "url = \"https://data.nasdaq.com/api/v3/datasets/FSE/AFX_X/?collapse=day&api_key\" + API_KEY\n",
    "\n",
    "#start_date=2017-01-01&end_date=2017-12-31&\n",
    "\n",
    "r = requests.get(url)\n",
    "Nasdaq_data = r.json()\n",
    "\n",
    "#pprint.pprint(Nasdaq_data)\n",
    "print(type(Nasdaq_data))\n",
    "#this changes the dict file back into json\n",
    "tojson_=json.dumps(Nasdaq_data)\n",
    "#print(tojson_)\n",
    "\n",
    "#for date in by_date: \n",
    "#    print('Date: {}'.format(date['newest_available_date']))\n"
   ]
  },
  {
   "cell_type": "code",
   "execution_count": 77,
   "metadata": {},
   "outputs": [
    {
     "name": "stdout",
     "output_type": "stream",
     "text": [
      "dataset: dict_keys(['id', 'dataset_code', 'database_code', 'name', 'description', 'refreshed_at', 'newest_available_date', 'oldest_available_date', 'column_names', 'frequency', 'type', 'premium', 'limit', 'transform', 'column_index', 'start_date', 'end_date', 'data', 'collapse', 'order', 'database_id'])\n"
     ]
    }
   ],
   "source": [
    "# Inspect the JSON structure of the object you created, and take note of how nested it is,\n",
    "# as well as the overall structure\n",
    "\n",
    "\n",
    "for k in Nasdaq_data.keys():\n",
    "    print(k + \":\", Nasdaq_data[k].keys())\n",
    "    \n",
    "#pprint.pprint(Nasdaq_data)\n"
   ]
  },
  {
   "cell_type": "markdown",
   "metadata": {},
   "source": [
    "These are your tasks for this mini project:\n",
    "\n",
    "1. Collect data from the Franfurt Stock Exchange, for the ticker AFX_X, for the whole year 2017 (keep in mind that the date format is YYYY-MM-DD).\n",
    "2. Convert the returned JSON object into a Python dictionary.\n",
    "3. Calculate what the highest and lowest opening prices were for the stock in this period.\n",
    "4. What was the largest change in any one day (based on High and Low price)?\n",
    "5. What was the largest change between any two days (based on Closing Price)?\n",
    "6. What was the average daily trading volume during this year?\n",
    "7. (Optional) What was the median trading volume during this year. (Note: you may need to implement your own function for calculating the median.)"
   ]
  },
  {
   "cell_type": "code",
   "execution_count": 148,
   "metadata": {},
   "outputs": [
    {
     "name": "stdout",
     "output_type": "stream",
     "text": [
      "['Date', 'Open', 'High', 'Low', 'Close', 'Change', 'Traded Volume', 'Turnover', 'Last Price of the Day', 'Daily Traded Units', 'Daily Turnover']\n"
     ]
    }
   ],
   "source": [
    "column_names = Nasdaq_data['dataset']['column_names']  \n",
    "\n",
    "print(column_names)\n"
   ]
  },
  {
   "cell_type": "code",
   "execution_count": 161,
   "metadata": {},
   "outputs": [],
   "source": [
    "a = \"2017-01-01\"\n",
    "b = \"2017-12-31\"\n",
    "start_date = datetime.strptime(a, '%Y-%m-%d').date()\n",
    "end_date = datetime.strptime(b, '%Y-%m-%d').date()\n",
    "\n",
    "delta = timedelta(days=1)\n",
    "\n",
    "data = Nasdaq_data['dataset']['data']\n",
    "#print(data)\n",
    "\n",
    "#This is for adding column names to the data\n",
    "#for col_name, dates in zip(Nasdaq_data['dataset']['column_names'], Nasdaq_data['dataset']['data'][0]): \n",
    "    \n",
    "AFX_X_2017=[]\n",
    "    \n",
    "for i,v in enumerate(data):\n",
    "    new = datetime.strptime(v[0],'%Y-%m-%d').date() \n",
    "    if new >= start_date and new <= end_date:\n",
    "        AFX_X_2017.append(v)\n",
    "            \n",
    "AFX_TUPLE = tuple(AFX_X_2017)        \n",
    "#print(AFX_X_2017)\n",
    "   \n",
    "    "
   ]
  },
  {
   "cell_type": "code",
   "execution_count": 189,
   "metadata": {},
   "outputs": [],
   "source": [
    "observations = []\n",
    "#Column names with coresponding values \n",
    "\n",
    "for ele in AFX_X_2017: \n",
    "    dict_ele = {}\n",
    "    for i,in_ele in enumerate(ele):\n",
    "        dict_ele[column_names[i]]= in_ele\n",
    "    observations.append(dict_ele)\n",
    "    \n",
    "#print(observations)\n",
    "      "
   ]
  },
  {
   "cell_type": "code",
   "execution_count": 269,
   "metadata": {},
   "outputs": [
    {
     "name": "stdout",
     "output_type": "stream",
     "text": [
      "Highest opening: 53.11\n",
      "Lowest opening: 34.0\n"
     ]
    }
   ],
   "source": [
    "#Calculate what the highest and lowest opening prices were for the stock in this period\n",
    "#Find the max and minimum of the opening prices\n",
    "values_are_null =[]\n",
    "Open_prices =[]\n",
    "\n",
    "for i in observations:\n",
    "    if type(i['Open']) != float: \n",
    "        values_are_null.append(i)\n",
    "    else: \n",
    "        Open_prices.append(i)\n",
    "\n",
    "maximum = 0 \n",
    "minimum = 1000\n",
    "for op in Open_prices: \n",
    "    if maximum <= op['Open']: \n",
    "        maximum = op['Open']\n",
    "    elif minimum >= op['Open']:\n",
    "        minimum = op['Open']\n",
    "\n",
    "print(\"Highest opening:\", maximum)\n",
    "print('Lowest opening:', minimum)    "
   ]
  },
  {
   "cell_type": "code",
   "execution_count": 270,
   "metadata": {},
   "outputs": [
    {
     "name": "stdout",
     "output_type": "stream",
     "text": [
      "Largest Change in one day based on High and Low price: 2.8100000000000023\n"
     ]
    }
   ],
   "source": [
    "#What was the largest change in any one day(based on High and Low price)\n",
    "    #change in one day High - Low  \n",
    "\n",
    "High_Prices = []\n",
    "Null_High_Prices = []\n",
    "\n",
    "for i in observations:\n",
    "    if type(i['High']) != float:\n",
    "        Null_High_Prices.append(i)\n",
    "    else: \n",
    "        High_Prices.append(i)\n",
    "\n",
    "#print(High_Prices)\n",
    "\n",
    "High_minus_Low = []\n",
    "\n",
    "for i in observations: \n",
    "    change = i['High'] - i['Low']\n",
    "    High_minus_Low.append(change)\n",
    "#print(High_minus_Low)\n",
    "\n",
    "Biggest_Change = max(High_minus_Low)\n",
    "print('Largest Change in one day based on High and Low price:', Biggest_Change)"
   ]
  },
  {
   "cell_type": "code",
   "execution_count": 271,
   "metadata": {},
   "outputs": [
    {
     "name": "stdout",
     "output_type": "stream",
     "text": [
      "Largest change between any two days: -2.559999999999995\n"
     ]
    }
   ],
   "source": [
    "#What was the largest change between any two days (based on Closing Price) \n",
    "    #Closing price change betwen two days - date closing price\n",
    "Closing_Price = []\n",
    "    \n",
    "for i in observations: \n",
    "    x = i['Close']\n",
    "    Closing_Price.append(x)\n",
    "\n",
    "by_date_closing = []\n",
    "\n",
    "for i,v in enumerate(Closing_Price):\n",
    "    for i in range(len(Closing_Price)-1):\n",
    "        change_clo = Closing_Price[i] - Closing_Price[i+1]\n",
    "        by_date_closing.append(change_clo)\n",
    "    \n",
    "Smallest_Closing_Change = min(by_date_closing)\n",
    "Largest_Closing_Change = max(by_date_closing)\n",
    "\n",
    "# print(Smallest_Closing_Change)\n",
    "# print(Largest_Closing_Change)\n",
    "\n",
    "print('Largest change between any two days:',Smallest_Closing_Change)"
   ]
  },
  {
   "cell_type": "code",
   "execution_count": 272,
   "metadata": {},
   "outputs": [
    {
     "name": "stdout",
     "output_type": "stream",
     "text": [
      "Average daily trading volume: 89124.33725490196\n"
     ]
    }
   ],
   "source": [
    "#What was the average daily trading volume during this year? (Mean)\n",
    "Daily_Trading_Volume = []\n",
    "\n",
    "for i in observations: \n",
    "    Daily_Trading_Volume.append(i['Traded Volume'])\n",
    "\n",
    "Trading_V_Change = sum(Daily_Trading_Volume) / len(Daily_Trading_Volume)\n",
    "\n",
    "print(\"Average daily trading volume:\", Trading_V_Change)"
   ]
  },
  {
   "cell_type": "code",
   "execution_count": 274,
   "metadata": {},
   "outputs": [
    {
     "name": "stdout",
     "output_type": "stream",
     "text": [
      "Median trading volume: 76286.0\n"
     ]
    }
   ],
   "source": [
    "#What was the median trading volume during this year (Median)\n",
    "import statistics \n",
    "Median = statistics.median(Daily_Trading_Volume)\n",
    "print('Median trading volume:', Median)"
   ]
  }
 ],
 "metadata": {
  "interpreter": {
   "hash": "7635eb1b9d0fe97add78a7368b6b431c09bb8ad5c42e437d64abdd99821c31ae"
  },
  "kernelspec": {
   "display_name": "Python 3",
   "language": "python",
   "name": "python3"
  },
  "language_info": {
   "codemirror_mode": {
    "name": "ipython",
    "version": 3
   },
   "file_extension": ".py",
   "mimetype": "text/x-python",
   "name": "python",
   "nbconvert_exporter": "python",
   "pygments_lexer": "ipython3",
   "version": "3.8.8"
  }
 },
 "nbformat": 4,
 "nbformat_minor": 4
}
